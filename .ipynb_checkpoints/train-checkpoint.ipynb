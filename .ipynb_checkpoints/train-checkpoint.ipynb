{
 "cells": [
  {
   "cell_type": "code",
   "execution_count": 1,
   "id": "initial_id",
   "metadata": {
    "ExecuteTime": {
     "end_time": "2024-11-12T23:37:51.785873Z",
     "start_time": "2024-11-12T23:37:51.783696Z"
    }
   },
   "outputs": [],
   "source": [
    "import torch\n",
    "from scratch import ArtDataset\n",
    "from torch.utils.data import Dataset, DataLoader, random_split\n",
    "import math\n",
    "import torch.nn as nn\n",
    "import numpy as np\n",
    "from sklearn import datasets\n",
    "from sklearn.preprocessing import StandardScaler\n",
    "from sklearn.model_selection import train_test_split\n",
    "import matplotlib.pyplot as plt\n",
    "import pandas as pd\n",
    "import torch.optim as optim\n",
    "from model import create_vocab_csv, text_to_tensor"
   ]
  },
  {
   "cell_type": "markdown",
   "id": "9b232412f332d13c",
   "metadata": {},
   "source": [
    "## Initialize the Dataset"
   ]
  },
  {
   "cell_type": "code",
   "execution_count": 2,
   "id": "5feafcb1d70f0103",
   "metadata": {
    "ExecuteTime": {
     "end_time": "2024-11-12T23:29:19.684963Z",
     "start_time": "2024-11-12T23:29:13.939927Z"
    }
   },
   "outputs": [
    {
     "name": "stdout",
     "output_type": "stream",
     "text": [
      "Dataset loaded successfully!\n"
     ]
    }
   ],
   "source": [
    "# initialize the dataset and the dataloader\n",
    "dataset = ArtDataset()"
   ]
  },
  {
   "cell_type": "markdown",
   "id": "22762236c99383",
   "metadata": {},
   "source": [
    "# Split dataset into train, validation (dev), and test sets\n",
    "Train: 95%\n",
    "Validation: 2.5%\n",
    "Test: 2.5%"
   ]
  },
  {
   "cell_type": "code",
   "execution_count": 3,
   "id": "36c1cd3c142596b2",
   "metadata": {
    "ExecuteTime": {
     "end_time": "2024-11-12T23:36:14.087736Z",
     "start_time": "2024-11-12T23:36:14.084854Z"
    }
   },
   "outputs": [],
   "source": [
    "# Define the dataset sizes\n",
    "total_size = len(dataset)\n",
    "train_size = int(0.95 * total_size)\n",
    "val_size = int(0.025 * total_size)\n",
    "test_size = total_size - train_size - val_size"
   ]
  },
  {
   "cell_type": "code",
   "execution_count": 4,
   "id": "a0d334a62a30ae9b",
   "metadata": {
    "ExecuteTime": {
     "end_time": "2024-11-12T23:36:25.806319Z",
     "start_time": "2024-11-12T23:36:25.803823Z"
    }
   },
   "outputs": [
    {
     "name": "stdout",
     "output_type": "stream",
     "text": [
      "316406 8326 8327\n"
     ]
    }
   ],
   "source": [
    "print(train_size, val_size, test_size)"
   ]
  },
  {
   "cell_type": "code",
   "execution_count": 5,
   "id": "66344851359cb64",
   "metadata": {
    "ExecuteTime": {
     "end_time": "2024-11-12T23:37:55.298758Z",
     "start_time": "2024-11-12T23:37:55.283177Z"
    }
   },
   "outputs": [],
   "source": [
    "# Split dataset into train, validation (dev), and test sets\n",
    "train_dataset, val_dataset, test_dataset = random_split(dataset, [train_size, val_size, test_size])"
   ]
  },
  {
   "cell_type": "code",
   "execution_count": 6,
   "id": "9da68da70bb17489",
   "metadata": {
    "ExecuteTime": {
     "end_time": "2024-11-12T23:38:05.395086Z",
     "start_time": "2024-11-12T23:38:05.392195Z"
    }
   },
   "outputs": [
    {
     "name": "stdout",
     "output_type": "stream",
     "text": [
      "316406\n"
     ]
    }
   ],
   "source": [
    "print(len(train_dataset))"
   ]
  },
  {
   "cell_type": "code",
   "execution_count": 7,
   "id": "fdc63acd350c92bc",
   "metadata": {
    "ExecuteTime": {
     "end_time": "2024-11-12T23:38:56.288337Z",
     "start_time": "2024-11-12T23:38:56.284944Z"
    }
   },
   "outputs": [],
   "source": [
    "# Create DataLoaders for each split\n",
    "batch = 256\n",
    "train_loader = DataLoader(train_dataset, batch_size=batch, shuffle=True, num_workers=2)\n",
    "val_loader = DataLoader(val_dataset, batch_size=batch, shuffle=False, num_workers=2)\n",
    "test_loader = DataLoader(test_dataset, batch_size=batch, shuffle=False, num_workers=2)"
   ]
  },
  {
   "cell_type": "markdown",
   "id": "e442959e-8212-45c4-bb00-7dba3d009d6a",
   "metadata": {},
   "source": [
    "## Define the model\n",
    "We define the model to consist of an embedding layer (to process the text input), and 2 hidden fully-connected layers. "
   ]
  },
  {
   "cell_type": "code",
   "execution_count": 8,
   "id": "5afb8366-ecd0-4924-868d-75e51b20fce4",
   "metadata": {},
   "outputs": [],
   "source": [
    "# Load GloVe embeddings\n",
    "def load_glove_embeddings(filepath, embedding_dim):\n",
    "    embeddings = {}\n",
    "    with open(filepath, 'r', encoding='utf-8') as f:\n",
    "        for line in f:\n",
    "            values = line.split()\n",
    "            word = values[0]\n",
    "            vector = np.asarray(values[1:], dtype='float32')\n",
    "            embeddings[word] = vector\n",
    "    return embeddings\n",
    "\n",
    "# Set path to GloVe file and embedding dimension\n",
    "glove_path = \"glove.6B.50d.txt\"  # Update this to your GloVe file path\n",
    "embedding_dim = 50\n",
    "glove_embeddings = load_glove_embeddings(glove_path, embedding_dim)"
   ]
  },
  {
   "cell_type": "code",
   "execution_count": 9,
   "id": "74b2b35c-82cd-44f4-8244-2f9de0d7f46c",
   "metadata": {},
   "outputs": [],
   "source": [
    "def cosine_similarity(vec1, vec2):\n",
    "    return np.dot(vec1, vec2) / (np.linalg.norm(vec1) * np.linalg.norm(vec2))"
   ]
  },
  {
   "cell_type": "code",
   "execution_count": 10,
   "id": "c36373b2-41e0-4331-8670-481ea4efb843",
   "metadata": {},
   "outputs": [],
   "source": [
    "def find_k_nearest_neighbors(word, glove_embeddings, k=5):\n",
    "    if word not in glove_embeddings:\n",
    "        print(f\"{word} not found in GloVe embeddings.\")\n",
    "        return []\n",
    "\n",
    "    # Get the embedding vector of the target word\n",
    "    target_vector = glove_embeddings[word]\n",
    "    \n",
    "    # Calculate similarity between the target word and every other word in the embeddings\n",
    "    similarities = {}\n",
    "    for other_word, other_vector in glove_embeddings.items():\n",
    "        if other_word != word:\n",
    "            similarity = cosine_similarity(target_vector, other_vector)\n",
    "            similarities[other_word] = similarity\n",
    "\n",
    "    # Sort words by similarity and get the top k\n",
    "    nearest_neighbors = sorted(similarities.items(), key=lambda x: x[1], reverse=True)[:k]\n",
    "    return nearest_neighbors"
   ]
  },
  {
   "cell_type": "code",
   "execution_count": 11,
   "id": "3d704e2f-7951-4ff7-a90c-dcf845fba0ab",
   "metadata": {},
   "outputs": [
    {
     "name": "stdout",
     "output_type": "stream",
     "text": [
      "[('contemporary', np.float32(0.8596234)), ('works', np.float32(0.83878714)), ('arts', np.float32(0.8278873)), ('museum', np.float32(0.82194173)), ('collection', np.float32(0.8105687))]\n"
     ]
    }
   ],
   "source": [
    "print(find_k_nearest_neighbors(\"art\", glove_embeddings, k=5))"
   ]
  },
  {
   "cell_type": "code",
   "execution_count": 12,
   "id": "d1192718-ead1-4e97-af2d-5de22b0a41f5",
   "metadata": {},
   "outputs": [
    {
     "data": {
      "text/plain": [
       "np.float32(-0.2013035)"
      ]
     },
     "execution_count": 12,
     "metadata": {},
     "output_type": "execute_result"
    }
   ],
   "source": [
    "cosine_similarity(glove_embeddings[\"arbus\"], glove_embeddings[\"rare\"])"
   ]
  },
  {
   "cell_type": "code",
   "execution_count": 17,
   "id": "cc95cd91-0076-472f-bb3b-03cc1c7e6369",
   "metadata": {},
   "outputs": [],
   "source": [
    "class ArtPricePredictor(nn.Module):\n",
    "    def __init__(self, features_dim):\n",
    "        super(ArtPricePredictor, self).__init__()\n",
    "        \n",
    "        # Fully connected layers for combined features\n",
    "        self.fc1 = nn.Linear(features_dim, 16)\n",
    "        self.fc2 = nn.Linear(16, 16)\n",
    "        self.fc3 = nn.Linear(16, 16)\n",
    "        self.fc4 = nn.Linear(16, 16)\n",
    "        self.fc5 = nn.Linear(16, 8)\n",
    "        self.fc6 = nn.Linear(8, 1)\n",
    "\n",
    "    def forward(self, x):\n",
    "        # Forward pass through fully connected layers\n",
    "        x = torch.relu(self.fc1(x))\n",
    "        x = torch.relu(self.fc2(x))\n",
    "        x = torch.relu(self.fc3(x))\n",
    "        x = torch.relu(self.fc4(x))\n",
    "        x = torch.relu(self.fc5(x))\n",
    "        x = self.fc6(x)  # Final output for price prediction\n",
    "        return x"
   ]
  },
  {
   "cell_type": "markdown",
   "id": "c8b1d0b49f7927db",
   "metadata": {},
   "source": [
    "## Instantiate the Art Price Predictor Model "
   ]
  },
  {
   "cell_type": "code",
   "execution_count": 13,
   "id": "3937adf300be14c0",
   "metadata": {},
   "outputs": [
    {
     "name": "stdout",
     "output_type": "stream",
     "text": [
      " Artist Vocab Size: 142937\n",
      " Title Vocab Size: 96962\n",
      " Number of numerical features: 11\n"
     ]
    }
   ],
   "source": [
    "# Extract the dimensions of the inputs \n",
    "vocab_size_artist = dataset.artist_vocab_len + 1\n",
    "vocab_size_title = dataset.title_vocab_len + 1\n",
    "numerical_features_dim = dataset.numerics.shape[1]\n",
    "print(f' Artist Vocab Size: {vocab_size_artist}\\n Title Vocab Size: {vocab_size_title}\\n Number of numerical features: {numerical_features_dim}')"
   ]
  },
  {
   "cell_type": "code",
   "execution_count": 18,
   "id": "a8a1cf26-6522-42f5-8870-7f95bdec7ce6",
   "metadata": {},
   "outputs": [],
   "source": [
    "# Set model hyperparameters \n",
    "learning_rate =0.0005"
   ]
  },
  {
   "cell_type": "code",
   "execution_count": 19,
   "id": "6c4499f930c43f0d",
   "metadata": {},
   "outputs": [
    {
     "name": "stdout",
     "output_type": "stream",
     "text": [
      "ArtPricePredictor(\n",
      "  (fc1): Linear(in_features=13, out_features=16, bias=True)\n",
      "  (fc2): Linear(in_features=16, out_features=16, bias=True)\n",
      "  (fc3): Linear(in_features=16, out_features=16, bias=True)\n",
      "  (fc4): Linear(in_features=16, out_features=16, bias=True)\n",
      "  (fc5): Linear(in_features=16, out_features=8, bias=True)\n",
      "  (fc6): Linear(in_features=8, out_features=1, bias=True)\n",
      ")\n"
     ]
    }
   ],
   "source": [
    "# Define the model\n",
    "x, y = dataset.__getitem__(0)\n",
    "model = ArtPricePredictor(x.size()[0])\n",
    "print(model)"
   ]
  },
  {
   "cell_type": "code",
   "execution_count": 20,
   "id": "d0dc9ae1-ccde-4a60-a56c-886b786110e1",
   "metadata": {},
   "outputs": [],
   "source": [
    "# Define percentage error loss\n",
    "# We use percentage error so that errors on large prices are treated more leniently than errors on small prices \n",
    "class MAPE(nn.Module):\n",
    "    def __init__(self, epsilon=1e-8):\n",
    "        super(MAPE, self).__init__()\n",
    "        self.epsilon = epsilon  # Small constant to avoid division by zero\n",
    "\n",
    "    def forward(self, predictions, targets):\n",
    "        # Calculate MAPE\n",
    "        percentage_errors = torch.abs((targets - predictions) / (targets + self.epsilon))\n",
    "        mape = 100.0 * torch.mean(percentage_errors)\n",
    "        return mape\n",
    "\n",
    "criterion = MAPE() \n",
    "optimizer = optim.Adam(model.parameters(), lr=learning_rate, betas=(0.90, 0.999))  # ADAM Optimization (first beta controls momentum)\n",
    "\n",
    "# APPLY LEARNING RATE DECAY \n",
    "# Reduces the learning rate by a factor of gamma every step_size epochs\n",
    "scheduler = torch.optim.lr_scheduler.StepLR(optimizer, step_size=5, gamma=0.99)"
   ]
  },
  {
   "cell_type": "code",
   "execution_count": 92,
   "id": "57a91a76-1ba1-440d-bd13-8220ec298ed9",
   "metadata": {},
   "outputs": [
    {
     "name": "stdout",
     "output_type": "stream",
     "text": [
      "ArtPricePredictor(\n",
      "  (fc1): Linear(in_features=13, out_features=16, bias=True)\n",
      "  (fc2): Linear(in_features=16, out_features=16, bias=True)\n",
      "  (fc3): Linear(in_features=16, out_features=16, bias=True)\n",
      "  (fc4): Linear(in_features=16, out_features=16, bias=True)\n",
      "  (fc5): Linear(in_features=16, out_features=8, bias=True)\n",
      "  (fc6): Linear(in_features=8, out_features=1, bias=True)\n",
      ")\n"
     ]
    }
   ],
   "source": [
    "print(model)"
   ]
  },
  {
   "cell_type": "code",
   "execution_count": 21,
   "id": "a38f452c-9536-4f0e-a58f-11c45a9825d5",
   "metadata": {},
   "outputs": [
    {
     "name": "stdout",
     "output_type": "stream",
     "text": [
      "Loss  tensor(1481.3180, grad_fn=<MulBackward0>)\n",
      "Model Prediction:  tensor([[0.1241],\n",
      "        [0.1237]], grad_fn=<AddmmBackward0>)\n",
      "Actual Label:  tensor([[-0.0083],\n",
      "        [-0.0097]])\n"
     ]
    }
   ],
   "source": [
    "# make a prediction and extract the actual value\n",
    "prediction = model(dataset.x[0:2])\n",
    "label = dataset.price[0:2]\n",
    "\n",
    "# evaluate the loss\n",
    "print(\"Loss \", criterion(prediction, label))\n",
    "print(\"Model Prediction: \", prediction)\n",
    "print(\"Actual Label: \", label)"
   ]
  },
  {
   "cell_type": "markdown",
   "id": "0730f645-16b7-44e1-a43d-a654bfdd2b02",
   "metadata": {},
   "source": [
    "## Train the model using Mini-Batch Gradient Descent with ADAM"
   ]
  },
  {
   "cell_type": "code",
   "execution_count": 22,
   "id": "f9a54ca6-f74a-4c3e-a5ad-02a3ac48d04d",
   "metadata": {},
   "outputs": [],
   "source": [
    "def train_one_epoch(model, dataloader, criterion, optimizer):\n",
    "    model.train()  # Set model to training mode\n",
    "    running_loss = 0.0\n",
    "    batch_losses = []  # Store each batch's loss\n",
    "    step_num = 0\n",
    "\n",
    "    # loops over all mini-batches in the dataloader \n",
    "    for x, price in dataloader:\n",
    "        \n",
    "        # Forward pass\n",
    "        price_pred = model(x)\n",
    "        loss = criterion(price_pred, price)\n",
    "        \n",
    "        # Backward pass and optimization\n",
    "        loss.backward()\n",
    "        optimizer.step()\n",
    "\n",
    "        # Zero the gradients\n",
    "        optimizer.zero_grad()\n",
    "        \n",
    "        # Accumulate the loss\n",
    "        batch_losses.append(loss.item())\n",
    "        if (step_num % 100) == 0: \n",
    "            print(f'Loss at step {step_num}: {loss.item()}')\n",
    "\n",
    "        # increment the step count \n",
    "        step_num += 1\n",
    "    \n",
    "    return batch_losses"
   ]
  },
  {
   "cell_type": "code",
   "execution_count": 23,
   "id": "e3329a7a-c67b-4f9d-bbdd-364b3a805689",
   "metadata": {},
   "outputs": [
    {
     "name": "stdout",
     "output_type": "stream",
     "text": [
      "Training one epoch...\n",
      "Loss at step 0: 6723.677734375\n",
      "Loss at step 100: 3818.71826171875\n",
      "Loss at step 200: 2377.814208984375\n",
      "Loss at step 300: 1246.66455078125\n",
      "Loss at step 400: 807.837646484375\n",
      "Loss at step 500: 919.9601440429688\n",
      "Loss at step 600: 347.30743408203125\n",
      "Loss at step 700: 266.62493896484375\n",
      "Loss at step 800: 25694.98046875\n",
      "Loss at step 900: 1278.3765869140625\n",
      "Loss at step 1000: 591.1775512695312\n",
      "Loss at step 1100: 657.5821533203125\n",
      "Loss at step 1200: 228.69334411621094\n"
     ]
    },
    {
     "data": {
      "image/png": "[encoded data removed]",
      "text/plain": [
       "<Figure size 640x480 with 1 Axes>"
      ]
     },
     "metadata": {},
     "output_type": "display_data"
    }
   ],
   "source": [
    "# One example training epopppch \n",
    "print(\"Training one epoch...\")\n",
    "losses = train_one_epoch(model, train_loader, criterion, optimizer)\n",
    "\n",
    "# Plot the loss curve\n",
    "plt.plot(losses, label=\"Batch Loss\")\n",
    "plt.xlabel(\"Batch Number\")\n",
    "plt.ylabel(\"Loss\")\n",
    "plt.title(\"Loss per Batch\")\n",
    "plt.legend()\n",
    "plt.show()"
   ]
  },
  {
   "cell_type": "code",
   "execution_count": 96,
   "id": "29eb082c-cbea-4f43-8f7d-457c33fe331a",
   "metadata": {},
   "outputs": [],
   "source": [
    "# Calculates the model's total percentage error on a given dataset \n",
    "def evaluate_percent(model, dataloader, criterion):\n",
    "    model.eval()  # Set model to evaluation mode\n",
    "    total_percentage_error = 0.0\n",
    "    num_samples = 0\n",
    "    \n",
    "    with torch.no_grad():\n",
    "        for x, price in dataloader:\n",
    "            # Calculate the model's prediction on the given artist, title and numerics\n",
    "            outputs = model(x)\n",
    "            \n",
    "            # Calculate absolute percentage error\n",
    "            abs_percentage_error = torch.abs((outputs - price) / price) * 100\n",
    "            \n",
    "            # Accumulate the sum of percentage errors\n",
    "            total_percentage_error += abs_percentage_error.sum().item()\n",
    "            \n",
    "            # Count the number of samples\n",
    "            num_samples += price.size(0)\n",
    "    \n",
    "    # Calculate the mean percentage error\n",
    "    mean_percentage_error = total_percentage_error / num_samples\n",
    "    return mean_percentage_error"
   ]
  },
  {
   "cell_type": "code",
   "execution_count": 53,
   "id": "b45ff947-455f-4e77-8cb2-4c72a9810124",
   "metadata": {},
   "outputs": [
    {
     "name": "stderr",
     "output_type": "stream",
     "text": [
      "Traceback (most recent call last):\n",
      "  File \"<string>\", line 1, in <module>\n",
      "  File \"/opt/anaconda3/envs/pytorch/lib/python3.12/multiprocessing/spawn.py\", line 122, in spawn_main\n",
      "    exitcode = _main(fd, parent_sentinel)\n",
      "               ^^^^^^^^^^^^^^^^^^^^^^^^^^\n",
      "  File \"/opt/anaconda3/envs/pytorch/lib/python3.12/multiprocessing/spawn.py\", line 132, in _main\n",
      "    self = reduction.pickle.load(from_parent)\n",
      "           ^^^^^^^^^^^^^^^^^^^^^^^^^^^^^^^^^^\n",
      "  File \"/Users/aoden/PycharmProjects/PyTorch Art Project/scratch.py\", line 131, in <module>\n",
      "    dataset = ArtDataset()\n",
      "              ^^^^^^^^^^^^\n",
      "  File \"/Users/aoden/PycharmProjects/PyTorch Art Project/scratch.py\", line 94, in __init__\n",
      "    avg_cosine_similarity_with_museum(title, glove_embeddings) for title in title_col\n",
      "    ^^^^^^^^^^^^^^^^^^^^^^^^^^^^^^^^^^^^^^^^^^^^^^^^^^^^^^^^^^\n",
      "  File \"/Users/aoden/PycharmProjects/PyTorch Art Project/scratch.py\", line 56, in avg_cosine_similarity_with_museum\n",
      "    similarities.append(cosine_similarity(embedding, target_embedding))\n",
      "                        ^^^^^^^^^^^^^^^^^^^^^^^^^^^^^^^^^^^^^^^^^^^^^^\n",
      "  File \"/Users/aoden/PycharmProjects/PyTorch Art Project/scratch.py\", line 37, in cosine_similarity\n",
      "    return np.dot(vec1, vec2) / (np.linalg.norm(vec1) * np.linalg.norm(vec2))\n",
      "                                 ^^^^^^^^^^^^^^^^^^^^\n",
      "  File \"/opt/anaconda3/envs/pytorch/lib/python3.12/site-packages/numpy/linalg/_linalg.py\", line 2717, in norm\n",
      "    x = asarray(x)\n",
      "        ^^^^^^^^^^\n",
      "KeyboardInterrupt\n"
     ]
    },
    {
     "ename": "KeyboardInterrupt",
     "evalue": "",
     "output_type": "error",
     "traceback": [
      "\u001b[0;31m---------------------------------------------------------------------------\u001b[0m",
      "\u001b[0;31mKeyboardInterrupt\u001b[0m                         Traceback (most recent call last)",
      "Cell \u001b[0;32mIn[53], line 1\u001b[0m\n\u001b[0;32m----> 1\u001b[0m \u001b[38;5;28mprint\u001b[39m(\u001b[38;5;124mf\u001b[39m\u001b[38;5;124m\"\u001b[39m\u001b[38;5;124mError of the model without training on the training set: \u001b[39m\u001b[38;5;132;01m{\u001b[39;00mevaluate_percent(model,\u001b[38;5;250m \u001b[39mtrain_loader,\u001b[38;5;250m \u001b[39mcriterion)\u001b[38;5;132;01m}\u001b[39;00m\u001b[38;5;124m%\u001b[39m\u001b[38;5;124m\"\u001b[39m)\n\u001b[1;32m      2\u001b[0m \u001b[38;5;28mprint\u001b[39m(\u001b[38;5;124mf\u001b[39m\u001b[38;5;124m\"\u001b[39m\u001b[38;5;124mError of the model without training on the validation set: \u001b[39m\u001b[38;5;132;01m{\u001b[39;00mevaluate_percent(model,\u001b[38;5;250m \u001b[39mval_loader,\u001b[38;5;250m \u001b[39mcriterion)\u001b[38;5;132;01m}\u001b[39;00m\u001b[38;5;124m%\u001b[39m\u001b[38;5;124m\"\u001b[39m)\n",
      "Cell \u001b[0;32mIn[52], line 8\u001b[0m, in \u001b[0;36mevaluate_percent\u001b[0;34m(model, dataloader, criterion)\u001b[0m\n\u001b[1;32m      5\u001b[0m num_samples \u001b[38;5;241m=\u001b[39m \u001b[38;5;241m0\u001b[39m\n\u001b[1;32m      7\u001b[0m \u001b[38;5;28;01mwith\u001b[39;00m torch\u001b[38;5;241m.\u001b[39mno_grad():\n\u001b[0;32m----> 8\u001b[0m     \u001b[38;5;28;01mfor\u001b[39;00m x, price \u001b[38;5;129;01min\u001b[39;00m dataloader:\n\u001b[1;32m      9\u001b[0m         \u001b[38;5;66;03m# Calculate the model's prediction on the given artist, title and numerics\u001b[39;00m\n\u001b[1;32m     10\u001b[0m         outputs \u001b[38;5;241m=\u001b[39m model(x)\n\u001b[1;32m     12\u001b[0m         \u001b[38;5;66;03m# Calculate absolute percentage error\u001b[39;00m\n",
      "File \u001b[0;32m/opt/anaconda3/envs/pytorch/lib/python3.12/site-packages/torch/utils/data/dataloader.py:484\u001b[0m, in \u001b[0;36mDataLoader.__iter__\u001b[0;34m(self)\u001b[0m\n\u001b[1;32m    482\u001b[0m     \u001b[38;5;28;01mreturn\u001b[39;00m \u001b[38;5;28mself\u001b[39m\u001b[38;5;241m.\u001b[39m_iterator\n\u001b[1;32m    483\u001b[0m \u001b[38;5;28;01melse\u001b[39;00m:\n\u001b[0;32m--> 484\u001b[0m     \u001b[38;5;28;01mreturn\u001b[39;00m \u001b[38;5;28mself\u001b[39m\u001b[38;5;241m.\u001b[39m_get_iterator()\n",
      "File \u001b[0;32m/opt/anaconda3/envs/pytorch/lib/python3.12/site-packages/torch/utils/data/dataloader.py:415\u001b[0m, in \u001b[0;36mDataLoader._get_iterator\u001b[0;34m(self)\u001b[0m\n\u001b[1;32m    413\u001b[0m \u001b[38;5;28;01melse\u001b[39;00m:\n\u001b[1;32m    414\u001b[0m     \u001b[38;5;28mself\u001b[39m\u001b[38;5;241m.\u001b[39mcheck_worker_number_rationality()\n\u001b[0;32m--> 415\u001b[0m     \u001b[38;5;28;01mreturn\u001b[39;00m _MultiProcessingDataLoaderIter(\u001b[38;5;28mself\u001b[39m)\n",
      "File \u001b[0;32m/opt/anaconda3/envs/pytorch/lib/python3.12/site-packages/torch/utils/data/dataloader.py:1138\u001b[0m, in \u001b[0;36m_MultiProcessingDataLoaderIter.__init__\u001b[0;34m(self, loader)\u001b[0m\n\u001b[1;32m   1131\u001b[0m w\u001b[38;5;241m.\u001b[39mdaemon \u001b[38;5;241m=\u001b[39m \u001b[38;5;28;01mTrue\u001b[39;00m\n\u001b[1;32m   1132\u001b[0m \u001b[38;5;66;03m# NB: Process.start() actually take some time as it needs to\u001b[39;00m\n\u001b[1;32m   1133\u001b[0m \u001b[38;5;66;03m#     start a process and pass the arguments over via a pipe.\u001b[39;00m\n\u001b[1;32m   1134\u001b[0m \u001b[38;5;66;03m#     Therefore, we only add a worker to self._workers list after\u001b[39;00m\n\u001b[1;32m   1135\u001b[0m \u001b[38;5;66;03m#     it started, so that we do not call .join() if program dies\u001b[39;00m\n\u001b[1;32m   1136\u001b[0m \u001b[38;5;66;03m#     before it starts, and __del__ tries to join but will get:\u001b[39;00m\n\u001b[1;32m   1137\u001b[0m \u001b[38;5;66;03m#     AssertionError: can only join a started process.\u001b[39;00m\n\u001b[0;32m-> 1138\u001b[0m w\u001b[38;5;241m.\u001b[39mstart()\n\u001b[1;32m   1139\u001b[0m \u001b[38;5;28mself\u001b[39m\u001b[38;5;241m.\u001b[39m_index_queues\u001b[38;5;241m.\u001b[39mappend(index_queue)\n\u001b[1;32m   1140\u001b[0m \u001b[38;5;28mself\u001b[39m\u001b[38;5;241m.\u001b[39m_workers\u001b[38;5;241m.\u001b[39mappend(w)\n",
      "File \u001b[0;32m/opt/anaconda3/envs/pytorch/lib/python3.12/multiprocessing/process.py:121\u001b[0m, in \u001b[0;36mBaseProcess.start\u001b[0;34m(self)\u001b[0m\n\u001b[1;32m    118\u001b[0m \u001b[38;5;28;01massert\u001b[39;00m \u001b[38;5;129;01mnot\u001b[39;00m _current_process\u001b[38;5;241m.\u001b[39m_config\u001b[38;5;241m.\u001b[39mget(\u001b[38;5;124m'\u001b[39m\u001b[38;5;124mdaemon\u001b[39m\u001b[38;5;124m'\u001b[39m), \\\n\u001b[1;32m    119\u001b[0m        \u001b[38;5;124m'\u001b[39m\u001b[38;5;124mdaemonic processes are not allowed to have children\u001b[39m\u001b[38;5;124m'\u001b[39m\n\u001b[1;32m    120\u001b[0m _cleanup()\n\u001b[0;32m--> 121\u001b[0m \u001b[38;5;28mself\u001b[39m\u001b[38;5;241m.\u001b[39m_popen \u001b[38;5;241m=\u001b[39m \u001b[38;5;28mself\u001b[39m\u001b[38;5;241m.\u001b[39m_Popen(\u001b[38;5;28mself\u001b[39m)\n\u001b[1;32m    122\u001b[0m \u001b[38;5;28mself\u001b[39m\u001b[38;5;241m.\u001b[39m_sentinel \u001b[38;5;241m=\u001b[39m \u001b[38;5;28mself\u001b[39m\u001b[38;5;241m.\u001b[39m_popen\u001b[38;5;241m.\u001b[39msentinel\n\u001b[1;32m    123\u001b[0m \u001b[38;5;66;03m# Avoid a refcycle if the target function holds an indirect\u001b[39;00m\n\u001b[1;32m    124\u001b[0m \u001b[38;5;66;03m# reference to the process object (see bpo-30775)\u001b[39;00m\n",
      "File \u001b[0;32m/opt/anaconda3/envs/pytorch/lib/python3.12/multiprocessing/context.py:224\u001b[0m, in \u001b[0;36mProcess._Popen\u001b[0;34m(process_obj)\u001b[0m\n\u001b[1;32m    222\u001b[0m \u001b[38;5;129m@staticmethod\u001b[39m\n\u001b[1;32m    223\u001b[0m \u001b[38;5;28;01mdef\u001b[39;00m \u001b[38;5;21m_Popen\u001b[39m(process_obj):\n\u001b[0;32m--> 224\u001b[0m     \u001b[38;5;28;01mreturn\u001b[39;00m _default_context\u001b[38;5;241m.\u001b[39mget_context()\u001b[38;5;241m.\u001b[39mProcess\u001b[38;5;241m.\u001b[39m_Popen(process_obj)\n",
      "File \u001b[0;32m/opt/anaconda3/envs/pytorch/lib/python3.12/multiprocessing/context.py:289\u001b[0m, in \u001b[0;36mSpawnProcess._Popen\u001b[0;34m(process_obj)\u001b[0m\n\u001b[1;32m    286\u001b[0m \u001b[38;5;129m@staticmethod\u001b[39m\n\u001b[1;32m    287\u001b[0m \u001b[38;5;28;01mdef\u001b[39;00m \u001b[38;5;21m_Popen\u001b[39m(process_obj):\n\u001b[1;32m    288\u001b[0m     \u001b[38;5;28;01mfrom\u001b[39;00m \u001b[38;5;21;01m.\u001b[39;00m\u001b[38;5;21;01mpopen_spawn_posix\u001b[39;00m \u001b[38;5;28;01mimport\u001b[39;00m Popen\n\u001b[0;32m--> 289\u001b[0m     \u001b[38;5;28;01mreturn\u001b[39;00m Popen(process_obj)\n",
      "File \u001b[0;32m/opt/anaconda3/envs/pytorch/lib/python3.12/multiprocessing/popen_spawn_posix.py:32\u001b[0m, in \u001b[0;36mPopen.__init__\u001b[0;34m(self, process_obj)\u001b[0m\n\u001b[1;32m     30\u001b[0m \u001b[38;5;28;01mdef\u001b[39;00m \u001b[38;5;21m__init__\u001b[39m(\u001b[38;5;28mself\u001b[39m, process_obj):\n\u001b[1;32m     31\u001b[0m     \u001b[38;5;28mself\u001b[39m\u001b[38;5;241m.\u001b[39m_fds \u001b[38;5;241m=\u001b[39m []\n\u001b[0;32m---> 32\u001b[0m     \u001b[38;5;28msuper\u001b[39m()\u001b[38;5;241m.\u001b[39m\u001b[38;5;21m__init__\u001b[39m(process_obj)\n",
      "File \u001b[0;32m/opt/anaconda3/envs/pytorch/lib/python3.12/multiprocessing/popen_fork.py:19\u001b[0m, in \u001b[0;36mPopen.__init__\u001b[0;34m(self, process_obj)\u001b[0m\n\u001b[1;32m     17\u001b[0m \u001b[38;5;28mself\u001b[39m\u001b[38;5;241m.\u001b[39mreturncode \u001b[38;5;241m=\u001b[39m \u001b[38;5;28;01mNone\u001b[39;00m\n\u001b[1;32m     18\u001b[0m \u001b[38;5;28mself\u001b[39m\u001b[38;5;241m.\u001b[39mfinalizer \u001b[38;5;241m=\u001b[39m \u001b[38;5;28;01mNone\u001b[39;00m\n\u001b[0;32m---> 19\u001b[0m \u001b[38;5;28mself\u001b[39m\u001b[38;5;241m.\u001b[39m_launch(process_obj)\n",
      "File \u001b[0;32m/opt/anaconda3/envs/pytorch/lib/python3.12/multiprocessing/popen_spawn_posix.py:62\u001b[0m, in \u001b[0;36mPopen._launch\u001b[0;34m(self, process_obj)\u001b[0m\n\u001b[1;32m     60\u001b[0m     \u001b[38;5;28mself\u001b[39m\u001b[38;5;241m.\u001b[39msentinel \u001b[38;5;241m=\u001b[39m parent_r\n\u001b[1;32m     61\u001b[0m     \u001b[38;5;28;01mwith\u001b[39;00m \u001b[38;5;28mopen\u001b[39m(parent_w, \u001b[38;5;124m'\u001b[39m\u001b[38;5;124mwb\u001b[39m\u001b[38;5;124m'\u001b[39m, closefd\u001b[38;5;241m=\u001b[39m\u001b[38;5;28;01mFalse\u001b[39;00m) \u001b[38;5;28;01mas\u001b[39;00m f:\n\u001b[0;32m---> 62\u001b[0m         f\u001b[38;5;241m.\u001b[39mwrite(fp\u001b[38;5;241m.\u001b[39mgetbuffer())\n\u001b[1;32m     63\u001b[0m \u001b[38;5;28;01mfinally\u001b[39;00m:\n\u001b[1;32m     64\u001b[0m     fds_to_close \u001b[38;5;241m=\u001b[39m []\n",
      "\u001b[0;31mKeyboardInterrupt\u001b[0m: "
     ]
    }
   ],
   "source": [
    "print(f\"Error of the model without training on the training set: {evaluate_percent(model, train_loader, criterion)}%\")\n",
    "print(f\"Error of the model without training on the validation set: {evaluate_percent(model, val_loader, criterion)}%\")"
   ]
  },
  {
   "cell_type": "code",
   "execution_count": 140,
   "id": "42137855-9170-42de-a068-0e253cab3c00",
   "metadata": {},
   "outputs": [],
   "source": [
    "# Calculate the average loss of the model \n",
    "def evaluate_loss(model, dataloader, criterion):\n",
    "    model.eval()  # Set model to evaluation mode\n",
    "    running_loss = 0.0\n",
    "    with torch.no_grad():\n",
    "        for x, price in dataloader:\n",
    "            # Forward pass\n",
    "            outputs = model(artist, title, numerics)\n",
    "            loss = criterion(outputs, price)\n",
    "            \n",
    "            # Accumulate the loss\n",
    "            running_loss += loss.item()\n",
    "    \n",
    "    return running_loss / len(dataloader)"
   ]
  },
  {
   "cell_type": "code",
   "execution_count": 141,
   "id": "4bb2d50c-6c9e-447e-a90e-bc4f17b7cc41",
   "metadata": {},
   "outputs": [
    {
     "name": "stdout",
     "output_type": "stream",
     "text": [
      "Median Price: $2830.89\n",
      "Mean Price: $31777.83\n",
      "Normalized to MEDIAN\n",
      "Dataset loaded successfully!\n",
      "Median Price: $2830.89\n",
      "Mean Price: $31777.83\n",
      "Normalized to MEDIAN\n",
      "Dataset loaded successfully!\n",
      "Mean Squared Error of the untrained model on Validation Set: 1807.3191605196655\n"
     ]
    }
   ],
   "source": [
    "print(f'Mean Squared Error of the untrained model on Validation Set: {evaluate_loss(model, val_loader, criterion)}')"
   ]
  },
  {
   "cell_type": "code",
   "execution_count": 24,
   "id": "09a37ef9-218a-4c1e-a67d-e74114349f76",
   "metadata": {},
   "outputs": [
    {
     "name": "stdout",
     "output_type": "stream",
     "text": [
      "Loss at step 0: 272.2344055175781\n",
      "Loss at step 100: 443.10614013671875\n",
      "Loss at step 200: 379.9480895996094\n",
      "Loss at step 300: 204.9539794921875\n",
      "Loss at step 400: 312.6573181152344\n",
      "Loss at step 500: 805.221923828125\n",
      "Loss at step 600: 180.98406982421875\n",
      "Loss at step 700: 229.6699981689453\n",
      "Loss at step 800: 168.03521728515625\n",
      "Loss at step 900: 277.91998291015625\n",
      "Loss at step 1000: 172.78599548339844\n",
      "Loss at step 1100: 131.76138305664062\n",
      "Loss at step 1200: 133.61172485351562\n",
      "Epoch 1/1000, Avg Train Loss: 4958.084858570284\n",
      "Loss at step 0: 365.14691162109375\n",
      "Loss at step 100: 190.15350341796875\n",
      "Loss at step 200: 1188.224609375\n",
      "Loss at step 300: 196.10829162597656\n",
      "Loss at step 400: 140.8017578125\n",
      "Loss at step 500: 253.430908203125\n",
      "Loss at step 600: 159.80690002441406\n",
      "Loss at step 700: 202.0606231689453\n",
      "Loss at step 800: 219.68409729003906\n",
      "Loss at step 900: 207.0189208984375\n",
      "Loss at step 1000: 139.2301025390625\n",
      "Loss at step 1100: 253.45162963867188\n",
      "Loss at step 1200: 1253.46875\n",
      "Epoch 2/1000, Avg Train Loss: 3865.3486743791204\n",
      "Loss at step 0: 146.9954833984375\n",
      "Loss at step 100: 147.54241943359375\n",
      "Loss at step 200: 161.0314483642578\n",
      "Loss at step 300: 363666.03125\n",
      "Loss at step 400: 142.27621459960938\n",
      "Loss at step 500: 134.58387756347656\n",
      "Loss at step 600: 258.7806091308594\n",
      "Loss at step 700: 29621.9453125\n",
      "Loss at step 800: 259.5421447753906\n",
      "Loss at step 900: 288.7552185058594\n",
      "Loss at step 1000: 244.9909210205078\n",
      "Loss at step 1100: 158.65826416015625\n",
      "Loss at step 1200: 192.29931640625\n",
      "Epoch 3/1000, Avg Train Loss: 4007.620472281496\n",
      "Loss at step 0: 138.4916534423828\n",
      "Loss at step 100: 233.62554931640625\n",
      "Loss at step 200: 132.02256774902344\n",
      "Loss at step 300: 282.87542724609375\n",
      "Loss at step 400: 286.0627136230469\n",
      "Loss at step 500: 146.2257843017578\n",
      "Loss at step 600: 134.4356231689453\n",
      "Loss at step 700: 127.21663665771484\n",
      "Loss at step 800: 114.44700622558594\n",
      "Loss at step 900: 230.17227172851562\n",
      "Loss at step 1000: 155.12753295898438\n",
      "Loss at step 1100: 187.34254455566406\n",
      "Loss at step 1200: 174.69664001464844\n",
      "Epoch 4/1000, Avg Train Loss: 3263.739499027289\n",
      "Loss at step 0: 117.71422576904297\n",
      "Loss at step 100: 404.4962463378906\n",
      "Loss at step 200: 304.81658935546875\n",
      "Loss at step 300: 189.66732788085938\n",
      "Loss at step 400: 119.82542419433594\n",
      "Loss at step 500: 484.3857727050781\n",
      "Loss at step 600: 138.13922119140625\n",
      "Loss at step 700: 243.70828247070312\n",
      "Loss at step 800: 330.7916259765625\n",
      "Loss at step 900: 161.72950744628906\n",
      "Loss at step 1000: 178.04835510253906\n",
      "Loss at step 1100: 6056.19873046875\n",
      "Loss at step 1200: 120.01433563232422\n",
      "Epoch 5/1000, Avg Train Loss: 3388.094646836562\n",
      "Loss at step 0: 202.8308868408203\n",
      "Loss at step 100: 205.78518676757812\n",
      "Loss at step 200: 140.38421630859375\n",
      "Loss at step 300: 110.48029327392578\n",
      "Loss at step 400: 180.70364379882812\n",
      "Loss at step 500: 182.50833129882812\n",
      "Loss at step 600: 221.5888214111328\n",
      "Loss at step 700: 139.4155731201172\n",
      "Loss at step 800: 143.83172607421875\n",
      "Loss at step 900: 214.59939575195312\n",
      "Loss at step 1000: 106.89875793457031\n",
      "Loss at step 1100: 120.36308288574219\n",
      "Loss at step 1200: 112.59330749511719\n",
      "Epoch 6/1000, Avg Train Loss: 2523.8787656987756\n",
      "Loss at step 0: 144.35281372070312\n",
      "Loss at step 100: 248.09896850585938\n",
      "Loss at step 200: 2665.42236328125\n",
      "Loss at step 300: 106.40924072265625\n",
      "Loss at step 400: 239.52862548828125\n",
      "Loss at step 500: 164.60476684570312\n",
      "Loss at step 600: 281.71270751953125\n",
      "Loss at step 700: 114.4600830078125\n",
      "Loss at step 800: 410.5981750488281\n",
      "Loss at step 900: 300.1236572265625\n",
      "Loss at step 1000: 161.07559204101562\n",
      "Loss at step 1100: 251.10617065429688\n",
      "Loss at step 1200: 107.86161804199219\n",
      "Epoch 7/1000, Avg Train Loss: 3313.65373871936\n",
      "Loss at step 0: 202.07870483398438\n",
      "Loss at step 100: 152.00514221191406\n",
      "Loss at step 200: 120.7065200805664\n",
      "Loss at step 300: 139.98513793945312\n",
      "Loss at step 400: 280.4334716796875\n",
      "Loss at step 500: 114.58699798583984\n",
      "Loss at step 600: 124.75601196289062\n",
      "Loss at step 700: 1290.3173828125\n",
      "Loss at step 800: 123.69351196289062\n",
      "Loss at step 900: 390.24462890625\n",
      "Loss at step 1000: 131.6887664794922\n",
      "Loss at step 1100: 110.94795227050781\n",
      "Loss at step 1200: 125.47725677490234\n",
      "Epoch 8/1000, Avg Train Loss: 3289.7644766464973\n",
      "Loss at step 0: 139426.75\n",
      "Loss at step 100: 107.06939697265625\n",
      "Loss at step 200: 105.85314178466797\n",
      "Loss at step 300: 109.5346450805664\n",
      "Loss at step 400: 354.2672119140625\n",
      "Loss at step 500: 140.2299346923828\n",
      "Loss at step 600: 227.08863830566406\n",
      "Loss at step 700: 126.55308532714844\n",
      "Loss at step 800: 119.25196838378906\n",
      "Loss at step 900: 121.71435546875\n",
      "Loss at step 1000: 143.50804138183594\n",
      "Loss at step 1100: 342.04888916015625\n",
      "Loss at step 1200: 228.09646606445312\n",
      "Epoch 9/1000, Avg Train Loss: 2902.5408069771083\n",
      "Loss at step 0: 325.8515319824219\n",
      "Loss at step 100: 234.11602783203125\n",
      "Loss at step 200: 148.87060546875\n",
      "Loss at step 300: 522.583740234375\n",
      "Loss at step 400: 123.03697967529297\n",
      "Loss at step 500: 169.8323974609375\n",
      "Loss at step 600: 151.04835510253906\n",
      "Loss at step 700: 98.96554565429688\n",
      "Loss at step 800: 146.38853454589844\n",
      "Loss at step 900: 133.1420440673828\n",
      "Loss at step 1000: 98.12134552001953\n",
      "Loss at step 1100: 126.88982391357422\n",
      "Loss at step 1200: 109.91838073730469\n",
      "Epoch 10/1000, Avg Train Loss: 2752.0155478974375\n"
     ]
    },
    {
     "name": "stderr",
     "output_type": "stream",
     "text": [
      "Traceback (most recent call last):\n",
      "  File \"<string>\", line 1, in <module>\n",
      "  File \"/opt/anaconda3/envs/pytorch/lib/python3.12/multiprocessing/spawn.py\", line 122, in spawn_main\n",
      "    exitcode = _main(fd, parent_sentinel)\n",
      "               ^^^^^^^^^^^^^^^^^^^^^^^^^^\n",
      "  File \"/opt/anaconda3/envs/pytorch/lib/python3.12/multiprocessing/spawn.py\", line 132, in _main\n",
      "    self = reduction.pickle.load(from_parent)\n",
      "           ^^^^^^^^^^^^^^^^^^^^^^^^^^^^^^^^^^\n",
      "  File \"/Users/aoden/PycharmProjects/PyTorch Art Project/scratch.py\", line 42, in <module>\n",
      "    glove_embeddings = load_glove_embeddings(glove_path, embedding_dim)\n",
      "                       ^^^^^^^^^^^^^^^^^^^^^^^^^^^^^^^^^^^^^^^^^^^^^^^^\n",
      "  File \"/Users/aoden/PycharmProjects/PyTorch Art Project/scratch.py\", line 30, in load_glove_embeddings\n",
      "    values = line.split()\n",
      "             ^^^^^^^^^^^^\n",
      "KeyboardInterrupt\n"
     ]
    },
    {
     "ename": "KeyboardInterrupt",
     "evalue": "",
     "output_type": "error",
     "traceback": [
      "\u001b[0;31m---------------------------------------------------------------------------\u001b[0m",
      "\u001b[0;31mKeyboardInterrupt\u001b[0m                         Traceback (most recent call last)",
      "Cell \u001b[0;32mIn[24], line 7\u001b[0m\n\u001b[1;32m      4\u001b[0m average \u001b[38;5;241m=\u001b[39m []\n\u001b[1;32m      6\u001b[0m \u001b[38;5;28;01mfor\u001b[39;00m epoch \u001b[38;5;129;01min\u001b[39;00m \u001b[38;5;28mrange\u001b[39m(num_epochs):\n\u001b[0;32m----> 7\u001b[0m     batch_losses \u001b[38;5;241m=\u001b[39m train_one_epoch(model, train_loader, criterion, optimizer)\n\u001b[1;32m      8\u001b[0m     loss_plot\u001b[38;5;241m.\u001b[39mextend(batch_losses)  \u001b[38;5;66;03m# Store losses for each batch\u001b[39;00m\n\u001b[1;32m     10\u001b[0m     \u001b[38;5;66;03m# Print average loss for the epoch\u001b[39;00m\n",
      "Cell \u001b[0;32mIn[22], line 8\u001b[0m, in \u001b[0;36mtrain_one_epoch\u001b[0;34m(model, dataloader, criterion, optimizer)\u001b[0m\n\u001b[1;32m      5\u001b[0m step_num \u001b[38;5;241m=\u001b[39m \u001b[38;5;241m0\u001b[39m\n\u001b[1;32m      7\u001b[0m \u001b[38;5;66;03m# loops over all mini-batches in the dataloader \u001b[39;00m\n\u001b[0;32m----> 8\u001b[0m \u001b[38;5;28;01mfor\u001b[39;00m x, price \u001b[38;5;129;01min\u001b[39;00m dataloader:\n\u001b[1;32m      9\u001b[0m     \n\u001b[1;32m     10\u001b[0m     \u001b[38;5;66;03m# Forward pass\u001b[39;00m\n\u001b[1;32m     11\u001b[0m     price_pred \u001b[38;5;241m=\u001b[39m model(x)\n\u001b[1;32m     12\u001b[0m     loss \u001b[38;5;241m=\u001b[39m criterion(price_pred, price)\n",
      "File \u001b[0;32m/opt/anaconda3/envs/pytorch/lib/python3.12/site-packages/torch/utils/data/dataloader.py:484\u001b[0m, in \u001b[0;36mDataLoader.__iter__\u001b[0;34m(self)\u001b[0m\n\u001b[1;32m    482\u001b[0m     \u001b[38;5;28;01mreturn\u001b[39;00m \u001b[38;5;28mself\u001b[39m\u001b[38;5;241m.\u001b[39m_iterator\n\u001b[1;32m    483\u001b[0m \u001b[38;5;28;01melse\u001b[39;00m:\n\u001b[0;32m--> 484\u001b[0m     \u001b[38;5;28;01mreturn\u001b[39;00m \u001b[38;5;28mself\u001b[39m\u001b[38;5;241m.\u001b[39m_get_iterator()\n",
      "File \u001b[0;32m/opt/anaconda3/envs/pytorch/lib/python3.12/site-packages/torch/utils/data/dataloader.py:415\u001b[0m, in \u001b[0;36mDataLoader._get_iterator\u001b[0;34m(self)\u001b[0m\n\u001b[1;32m    413\u001b[0m \u001b[38;5;28;01melse\u001b[39;00m:\n\u001b[1;32m    414\u001b[0m     \u001b[38;5;28mself\u001b[39m\u001b[38;5;241m.\u001b[39mcheck_worker_number_rationality()\n\u001b[0;32m--> 415\u001b[0m     \u001b[38;5;28;01mreturn\u001b[39;00m _MultiProcessingDataLoaderIter(\u001b[38;5;28mself\u001b[39m)\n",
      "File \u001b[0;32m/opt/anaconda3/envs/pytorch/lib/python3.12/site-packages/torch/utils/data/dataloader.py:1138\u001b[0m, in \u001b[0;36m_MultiProcessingDataLoaderIter.__init__\u001b[0;34m(self, loader)\u001b[0m\n\u001b[1;32m   1131\u001b[0m w\u001b[38;5;241m.\u001b[39mdaemon \u001b[38;5;241m=\u001b[39m \u001b[38;5;28;01mTrue\u001b[39;00m\n\u001b[1;32m   1132\u001b[0m \u001b[38;5;66;03m# NB: Process.start() actually take some time as it needs to\u001b[39;00m\n\u001b[1;32m   1133\u001b[0m \u001b[38;5;66;03m#     start a process and pass the arguments over via a pipe.\u001b[39;00m\n\u001b[1;32m   1134\u001b[0m \u001b[38;5;66;03m#     Therefore, we only add a worker to self._workers list after\u001b[39;00m\n\u001b[1;32m   1135\u001b[0m \u001b[38;5;66;03m#     it started, so that we do not call .join() if program dies\u001b[39;00m\n\u001b[1;32m   1136\u001b[0m \u001b[38;5;66;03m#     before it starts, and __del__ tries to join but will get:\u001b[39;00m\n\u001b[1;32m   1137\u001b[0m \u001b[38;5;66;03m#     AssertionError: can only join a started process.\u001b[39;00m\n\u001b[0;32m-> 1138\u001b[0m w\u001b[38;5;241m.\u001b[39mstart()\n\u001b[1;32m   1139\u001b[0m \u001b[38;5;28mself\u001b[39m\u001b[38;5;241m.\u001b[39m_index_queues\u001b[38;5;241m.\u001b[39mappend(index_queue)\n\u001b[1;32m   1140\u001b[0m \u001b[38;5;28mself\u001b[39m\u001b[38;5;241m.\u001b[39m_workers\u001b[38;5;241m.\u001b[39mappend(w)\n",
      "File \u001b[0;32m/opt/anaconda3/envs/pytorch/lib/python3.12/multiprocessing/process.py:121\u001b[0m, in \u001b[0;36mBaseProcess.start\u001b[0;34m(self)\u001b[0m\n\u001b[1;32m    118\u001b[0m \u001b[38;5;28;01massert\u001b[39;00m \u001b[38;5;129;01mnot\u001b[39;00m _current_process\u001b[38;5;241m.\u001b[39m_config\u001b[38;5;241m.\u001b[39mget(\u001b[38;5;124m'\u001b[39m\u001b[38;5;124mdaemon\u001b[39m\u001b[38;5;124m'\u001b[39m), \\\n\u001b[1;32m    119\u001b[0m        \u001b[38;5;124m'\u001b[39m\u001b[38;5;124mdaemonic processes are not allowed to have children\u001b[39m\u001b[38;5;124m'\u001b[39m\n\u001b[1;32m    120\u001b[0m _cleanup()\n\u001b[0;32m--> 121\u001b[0m \u001b[38;5;28mself\u001b[39m\u001b[38;5;241m.\u001b[39m_popen \u001b[38;5;241m=\u001b[39m \u001b[38;5;28mself\u001b[39m\u001b[38;5;241m.\u001b[39m_Popen(\u001b[38;5;28mself\u001b[39m)\n\u001b[1;32m    122\u001b[0m \u001b[38;5;28mself\u001b[39m\u001b[38;5;241m.\u001b[39m_sentinel \u001b[38;5;241m=\u001b[39m \u001b[38;5;28mself\u001b[39m\u001b[38;5;241m.\u001b[39m_popen\u001b[38;5;241m.\u001b[39msentinel\n\u001b[1;32m    123\u001b[0m \u001b[38;5;66;03m# Avoid a refcycle if the target function holds an indirect\u001b[39;00m\n\u001b[1;32m    124\u001b[0m \u001b[38;5;66;03m# reference to the process object (see bpo-30775)\u001b[39;00m\n",
      "File \u001b[0;32m/opt/anaconda3/envs/pytorch/lib/python3.12/multiprocessing/context.py:224\u001b[0m, in \u001b[0;36mProcess._Popen\u001b[0;34m(process_obj)\u001b[0m\n\u001b[1;32m    222\u001b[0m \u001b[38;5;129m@staticmethod\u001b[39m\n\u001b[1;32m    223\u001b[0m \u001b[38;5;28;01mdef\u001b[39;00m \u001b[38;5;21m_Popen\u001b[39m(process_obj):\n\u001b[0;32m--> 224\u001b[0m     \u001b[38;5;28;01mreturn\u001b[39;00m _default_context\u001b[38;5;241m.\u001b[39mget_context()\u001b[38;5;241m.\u001b[39mProcess\u001b[38;5;241m.\u001b[39m_Popen(process_obj)\n",
      "File \u001b[0;32m/opt/anaconda3/envs/pytorch/lib/python3.12/multiprocessing/context.py:289\u001b[0m, in \u001b[0;36mSpawnProcess._Popen\u001b[0;34m(process_obj)\u001b[0m\n\u001b[1;32m    286\u001b[0m \u001b[38;5;129m@staticmethod\u001b[39m\n\u001b[1;32m    287\u001b[0m \u001b[38;5;28;01mdef\u001b[39;00m \u001b[38;5;21m_Popen\u001b[39m(process_obj):\n\u001b[1;32m    288\u001b[0m     \u001b[38;5;28;01mfrom\u001b[39;00m \u001b[38;5;21;01m.\u001b[39;00m\u001b[38;5;21;01mpopen_spawn_posix\u001b[39;00m \u001b[38;5;28;01mimport\u001b[39;00m Popen\n\u001b[0;32m--> 289\u001b[0m     \u001b[38;5;28;01mreturn\u001b[39;00m Popen(process_obj)\n",
      "File \u001b[0;32m/opt/anaconda3/envs/pytorch/lib/python3.12/multiprocessing/popen_spawn_posix.py:32\u001b[0m, in \u001b[0;36mPopen.__init__\u001b[0;34m(self, process_obj)\u001b[0m\n\u001b[1;32m     30\u001b[0m \u001b[38;5;28;01mdef\u001b[39;00m \u001b[38;5;21m__init__\u001b[39m(\u001b[38;5;28mself\u001b[39m, process_obj):\n\u001b[1;32m     31\u001b[0m     \u001b[38;5;28mself\u001b[39m\u001b[38;5;241m.\u001b[39m_fds \u001b[38;5;241m=\u001b[39m []\n\u001b[0;32m---> 32\u001b[0m     \u001b[38;5;28msuper\u001b[39m()\u001b[38;5;241m.\u001b[39m\u001b[38;5;21m__init__\u001b[39m(process_obj)\n",
      "File \u001b[0;32m/opt/anaconda3/envs/pytorch/lib/python3.12/multiprocessing/popen_fork.py:19\u001b[0m, in \u001b[0;36mPopen.__init__\u001b[0;34m(self, process_obj)\u001b[0m\n\u001b[1;32m     17\u001b[0m \u001b[38;5;28mself\u001b[39m\u001b[38;5;241m.\u001b[39mreturncode \u001b[38;5;241m=\u001b[39m \u001b[38;5;28;01mNone\u001b[39;00m\n\u001b[1;32m     18\u001b[0m \u001b[38;5;28mself\u001b[39m\u001b[38;5;241m.\u001b[39mfinalizer \u001b[38;5;241m=\u001b[39m \u001b[38;5;28;01mNone\u001b[39;00m\n\u001b[0;32m---> 19\u001b[0m \u001b[38;5;28mself\u001b[39m\u001b[38;5;241m.\u001b[39m_launch(process_obj)\n",
      "File \u001b[0;32m/opt/anaconda3/envs/pytorch/lib/python3.12/multiprocessing/popen_spawn_posix.py:62\u001b[0m, in \u001b[0;36mPopen._launch\u001b[0;34m(self, process_obj)\u001b[0m\n\u001b[1;32m     60\u001b[0m     \u001b[38;5;28mself\u001b[39m\u001b[38;5;241m.\u001b[39msentinel \u001b[38;5;241m=\u001b[39m parent_r\n\u001b[1;32m     61\u001b[0m     \u001b[38;5;28;01mwith\u001b[39;00m \u001b[38;5;28mopen\u001b[39m(parent_w, \u001b[38;5;124m'\u001b[39m\u001b[38;5;124mwb\u001b[39m\u001b[38;5;124m'\u001b[39m, closefd\u001b[38;5;241m=\u001b[39m\u001b[38;5;28;01mFalse\u001b[39;00m) \u001b[38;5;28;01mas\u001b[39;00m f:\n\u001b[0;32m---> 62\u001b[0m         f\u001b[38;5;241m.\u001b[39mwrite(fp\u001b[38;5;241m.\u001b[39mgetbuffer())\n\u001b[1;32m     63\u001b[0m \u001b[38;5;28;01mfinally\u001b[39;00m:\n\u001b[1;32m     64\u001b[0m     fds_to_close \u001b[38;5;241m=\u001b[39m []\n",
      "\u001b[0;31mKeyboardInterrupt\u001b[0m: "
     ]
    }
   ],
   "source": [
    "##### Training Loop \n",
    "num_epochs = 1000\n",
    "loss_plot = []  # keep a vector to plot the loss as we go \n",
    "average = []\n",
    "\n",
    "for epoch in range(num_epochs):\n",
    "    batch_losses = train_one_epoch(model, train_loader, criterion, optimizer)\n",
    "    loss_plot.extend(batch_losses)  # Store losses for each batch\n",
    "    \n",
    "    # Print average loss for the epoch\n",
    "    avg_epoch_loss = sum(batch_losses) / len(batch_losses)\n",
    "    average.append(avg_epoch_loss)\n",
    "    print(f\"Epoch {epoch+1}/{num_epochs}, Avg Train Loss: {avg_epoch_loss}\")\n",
    "\n",
    "    # Update the learning rate \n",
    "    scheduler.step()\n",
    "\n",
    "    # if the average epoch loss goes below human error significantly, stop training \n",
    "    if avg_epoch_loss < 30: \n",
    "        break\n",
    "\n",
    "    if (epoch % 100) == 0: \n",
    "        torch.save(model.state_dict(), 'model_weights.txt')\n",
    "\n",
    "# Plot the loss curve\n",
    "plt.plot(loss_plot, label=\"Batch Loss\")\n",
    "plt.plot(average, label=\"Average Batch Loss\")\n",
    "plt.xlabel(\"Batch Number\")\n",
    "plt.ylabel(\"Loss\")\n",
    "plt.title(\"Loss per Batch\")\n",
    "plt.legend()\n",
    "plt.show()"
   ]
  },
  {
   "cell_type": "code",
   "execution_count": null,
   "id": "b4213067-3809-46fa-91c3-442678fdcbbd",
   "metadata": {},
   "outputs": [],
   "source": [
    "plt.plot(average, label=\"Average Batch Loss\")\n",
    "plt.xlabel(\"Batch Number\")\n",
    "plt.ylabel(\"Loss\")\n",
    "plt.title(\"Loss per Batch\")\n",
    "plt.legend()\n",
    "plt.show()"
   ]
  },
  {
   "cell_type": "code",
   "execution_count": 64,
   "id": "31cbe535-ac17-4ad2-b76f-6e0b7fec80b9",
   "metadata": {},
   "outputs": [
    {
     "name": "stdout",
     "output_type": "stream",
     "text": [
      "Artist: Duane Hanson (1925-1996)\n",
      "Title: Man on a bench\n",
      "Real Price: $174755.39\n",
      "Model Prediction: $1827.33\n",
      "17231.5859375\n"
     ]
    }
   ],
   "source": [
    "def prediction_to_real_price(price_tensor): \n",
    "    return (price_tensor * dataset.price_std) + dataset.price_median\n",
    "\n",
    "# Sample the Training Set \n",
    "index = 200000\n",
    "x_test, price_test = dataset.__getitem__(index)\n",
    "artist_str, title_str = dataset.__getstring__(index)\n",
    "print(f\"Artist: {artist_str}\")\n",
    "print(f\"Title: {title_str}\")\n",
    "print(f\"Real Price: ${prediction_to_real_price(price_test).item():.2f}\")\n",
    "prediction = model(x_test.view(1, -1))\n",
    "print(f\"Model Prediction: ${prediction_to_real_price(prediction).item():.2f}\")\n",
    "with torch.no_grad(): \n",
    "    print(criterion(price_test, prediction).item())"
   ]
  },
  {
   "cell_type": "code",
   "execution_count": 48,
   "id": "0cc8aeab-5ef6-4f0f-9fc8-67710cd44e7b",
   "metadata": {},
   "outputs": [
    {
     "name": "stdout",
     "output_type": "stream",
     "text": [
      "Artist: A pink lustre 'Freemason's' jug\n",
      "Title: nan\n",
      "Real Price: $219.52\n"
     ]
    },
    {
     "ename": "NameError",
     "evalue": "name 'artist_test' is not defined",
     "output_type": "error",
     "traceback": [
      "\u001b[0;31m---------------------------------------------------------------------------\u001b[0m",
      "\u001b[0;31mNameError\u001b[0m                                 Traceback (most recent call last)",
      "Cell \u001b[0;32mIn[48], line 4\u001b[0m\n\u001b[1;32m      2\u001b[0m \u001b[38;5;28mprint\u001b[39m(\u001b[38;5;124mf\u001b[39m\u001b[38;5;124m\"\u001b[39m\u001b[38;5;124mTitle: \u001b[39m\u001b[38;5;132;01m{\u001b[39;00mtitle_str\u001b[38;5;132;01m}\u001b[39;00m\u001b[38;5;124m\"\u001b[39m)\n\u001b[1;32m      3\u001b[0m \u001b[38;5;28mprint\u001b[39m(\u001b[38;5;124mf\u001b[39m\u001b[38;5;124m\"\u001b[39m\u001b[38;5;124mReal Price: $\u001b[39m\u001b[38;5;132;01m{\u001b[39;00mprediction_to_real_price(price_test)\u001b[38;5;241m.\u001b[39mitem()\u001b[38;5;132;01m:\u001b[39;00m\u001b[38;5;124m.2f\u001b[39m\u001b[38;5;132;01m}\u001b[39;00m\u001b[38;5;124m\"\u001b[39m)\n\u001b[0;32m----> 4\u001b[0m prediction \u001b[38;5;241m=\u001b[39m model(artist_test\u001b[38;5;241m.\u001b[39mview(\u001b[38;5;241m1\u001b[39m, \u001b[38;5;241m-\u001b[39m\u001b[38;5;241m1\u001b[39m), title_test\u001b[38;5;241m.\u001b[39mview(\u001b[38;5;241m1\u001b[39m, \u001b[38;5;241m-\u001b[39m\u001b[38;5;241m1\u001b[39m), numerics_test\u001b[38;5;241m.\u001b[39mview(\u001b[38;5;241m1\u001b[39m, \u001b[38;5;241m-\u001b[39m\u001b[38;5;241m1\u001b[39m))\n\u001b[1;32m      5\u001b[0m \u001b[38;5;28mprint\u001b[39m(\u001b[38;5;124mf\u001b[39m\u001b[38;5;124m\"\u001b[39m\u001b[38;5;124mModel Prediction: $\u001b[39m\u001b[38;5;132;01m{\u001b[39;00mprediction_to_real_price(prediction)\u001b[38;5;241m.\u001b[39mitem()\u001b[38;5;132;01m:\u001b[39;00m\u001b[38;5;124m.2f\u001b[39m\u001b[38;5;132;01m}\u001b[39;00m\u001b[38;5;124m\"\u001b[39m)\n",
      "\u001b[0;31mNameError\u001b[0m: name 'artist_test' is not defined"
     ]
    }
   ],
   "source": [
    "\n",
    "print(f\"Artist: {artist_str}\")\n",
    "print(f\"Title: {title_str}\")\n",
    "print(f\"Real Price: ${prediction_to_real_price(price_test).item():.2f}\")\n",
    "prediction = model(artist_test.view(1, -1), title_test.view(1, -1), numerics_test.view(1, -1))\n",
    "print(f\"Model Prediction: ${prediction_to_real_price(prediction).item():.2f}\")"
   ]
  },
  {
   "cell_type": "code",
   "execution_count": 180,
   "id": "35729b1f-12eb-4630-8629-bed3cb9e1320",
   "metadata": {},
   "outputs": [
    {
     "name": "stdout",
     "output_type": "stream",
     "text": [
      "tensor(54.4121)\n"
     ]
    }
   ],
   "source": [
    "with torch.no_grad(): \n",
    "    print(criterion(price_test, prediction))"
   ]
  },
  {
   "cell_type": "code",
   "execution_count": 40,
   "id": "d8ab652e-d671-456d-9a3e-364fb098e865",
   "metadata": {},
   "outputs": [
    {
     "name": "stdout",
     "output_type": "stream",
     "text": [
      "Real Price Normalized:  tensor([-0.0092])\n",
      "Model Prediction Normalized:  tensor([[-2.1695e-08]], grad_fn=<AddmmBackward0>)\n"
     ]
    }
   ],
   "source": [
    "print(\"Real Price Normalized: \", price_test)\n",
    "print(\"Model Prediction Normalized: \", prediction)"
   ]
  },
  {
   "cell_type": "code",
   "execution_count": 38,
   "id": "e5423a23-3678-4b67-9e99-aee0cb76d0c5",
   "metadata": {},
   "outputs": [
    {
     "name": "stdout",
     "output_type": "stream",
     "text": [
      "fc1.weight:\n",
      "tensor([[-0.2612, -0.3165, -0.0925, -0.1503, -0.1302,  0.0803,  0.1983, -0.0735,\n",
      "          0.0091,  0.3834, -0.1505,  0.0686,  0.0193],\n",
      "        [ 0.2101,  0.3574,  0.4466, -0.3402,  0.1273,  0.0058, -0.3784,  0.0053,\n",
      "         -0.5275,  0.3315, -0.1071, -0.1518, -0.0346],\n",
      "        [-0.0795, -0.2030,  0.3063, -0.0636, -0.1748,  0.0216,  0.0373, -0.1911,\n",
      "         -0.2639,  0.0804,  0.1417, -0.0013, -0.0812],\n",
      "        [ 0.1090,  0.1107, -0.2536,  0.3599, -0.1825,  0.2160,  0.1724, -0.4350,\n",
      "          0.2164, -0.4358,  0.1931,  0.3384,  0.0540],\n",
      "        [-0.3601, -0.1574, -0.1143, -0.0907, -0.2680,  0.1386,  0.2232, -0.1045,\n",
      "          0.1425, -0.0342,  0.0586, -0.0394, -0.0060],\n",
      "        [-0.1171, -0.5389,  0.1044,  0.1699, -0.1923, -0.3639, -0.0117, -0.0824,\n",
      "         -0.1775, -0.2600, -0.2471,  0.2647, -0.0533],\n",
      "        [ 0.1294,  0.0744, -0.0263,  0.4745, -0.2291,  0.1951,  0.3845,  0.1570,\n",
      "          0.2338, -0.2118,  0.5391,  0.0463,  0.4172],\n",
      "        [-0.2072, -0.0140, -0.0899,  0.0605, -0.2144, -0.1092,  0.0264, -0.0385,\n",
      "         -0.0209, -0.0822,  0.0858, -0.2819, -0.0158]])\n",
      "\n",
      "fc1.bias:\n",
      "tensor([-0.1312,  0.3242, -0.0517, -0.1531,  0.1452, -0.1008,  0.2891, -0.0679])\n",
      "\n",
      "fc2.weight:\n",
      "tensor([[ 0.1471, -0.3638, -0.0070, -0.0702, -0.3050, -0.1307, -0.2299, -0.0376],\n",
      "        [-0.0179, -0.2813, -0.0876,  0.0059, -0.2308,  0.0426, -0.0613, -0.3399],\n",
      "        [-0.5157, -0.1543,  0.0142, -0.4407,  0.4583,  0.2321, -0.2439, -0.0939],\n",
      "        [ 0.4911, -0.4961,  0.2836, -0.0364, -0.2880, -0.0405, -0.0236, -0.1612]])\n",
      "\n",
      "fc2.bias:\n",
      "tensor([ 0.2232, -0.0777, -0.2261, -0.2100])\n",
      "\n",
      "fc3.weight:\n",
      "tensor([[-0.2992, -0.0023, -0.0525,  0.0641]])\n",
      "\n",
      "fc3.bias:\n",
      "tensor([-2.1695e-08])\n",
      "\n"
     ]
    }
   ],
   "source": [
    "# Print all weights and biases\n",
    "for name, param in model.state_dict().items():\n",
    "    print(f\"{name}:\\n{param}\\n\")"
   ]
  },
  {
   "cell_type": "markdown",
   "id": "516dae16-82c1-4b11-92eb-23a6dbdaa020",
   "metadata": {},
   "source": [
    "Compute human error"
   ]
  },
  {
   "cell_type": "code",
   "execution_count": 68,
   "id": "e2039366-5817-4d25-aafd-fb8294cc6dbc",
   "metadata": {},
   "outputs": [
    {
     "name": "stdout",
     "output_type": "stream",
     "text": [
      "Mean Absolute Percentage Error (MAPE): 39.08%\n"
     ]
    }
   ],
   "source": [
    "import pandas as pd\n",
    "\n",
    "# Load the CSV file\n",
    "file_path = 'clean_art.csv'\n",
    "data = pd.read_csv(file_path)\n",
    "\n",
    "# Calculate the human predicted price (midpoint)\n",
    "data['Human Predicted Price'] = (data['Real LB Estimate USD'] + data['Real UB Estimate USD']) / 2\n",
    "\n",
    "# Calculate the absolute percentage error for each row\n",
    "data['Absolute Percentage Error'] = abs(data['Human Predicted Price'] - data['Real Price USD']) / data['Real Price USD']\n",
    "\n",
    "# Calculate the mean of the absolute percentage error (MAPE)\n",
    "mape = data['Absolute Percentage Error'].mean() * 100\n",
    "\n",
    "# Output the result\n",
    "print(f\"Mean Absolute Percentage Error (MAPE): {mape:.2f}%\")"
   ]
  },
  {
   "cell_type": "code",
   "execution_count": null,
   "id": "93666450-0d6e-4efa-b20a-9172a66a829d",
   "metadata": {},
   "outputs": [],
   "source": []
  }
 ],
 "metadata": {
  "kernelspec": {
   "display_name": "Python 3 (ipykernel)",
   "language": "python",
   "name": "python3"
  },
  "language_info": {
   "codemirror_mode": {
    "name": "ipython",
    "version": 3
   },
   "file_extension": ".py",
   "mimetype": "text/x-python",
   "name": "python",
   "nbconvert_exporter": "python",
   "pygments_lexer": "ipython3",
   "version": "3.12.7"
  }
 },
 "nbformat": 4,
 "nbformat_minor": 5
}
